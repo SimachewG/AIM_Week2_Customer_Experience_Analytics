{
 "cells": [
  {
   "cell_type": "code",
   "execution_count": 11,
   "metadata": {},
   "outputs": [],
   "source": [
    "import pandas as pd\n",
    "from datetime import datetime\n",
    "import psycopg2"
   ]
  },
  {
   "cell_type": "markdown",
   "metadata": {},
   "source": [
    "### Step 1: Schema Creation"
   ]
  },
  {
   "cell_type": "code",
   "execution_count": 14,
   "metadata": {},
   "outputs": [],
   "source": [
    "#df = pd.read_csv(\"filtered_bank_reviews.csv\")\n",
    "\n",
    "conn = psycopg2.connect(\n",
    "    dbname=\"bank_reviews\",\n",
    "    user=\"postgres\",\n",
    "    password=\"Smith@19\",\n",
    "    host=\"localhost\",\n",
    "    port=\"5432\"\n",
    ")\n",
    "cur = conn.cursor()\n",
    "\n",
    "# Create banks table\n",
    "cur.execute(\"\"\"\n",
    "    CREATE TABLE IF NOT EXISTS banks (\n",
    "        id SERIAL PRIMARY KEY,\n",
    "        name VARCHAR(255) UNIQUE NOT NULL\n",
    "    );\n",
    "\"\"\")\n",
    "\n",
    "# Create reviews table\n",
    "cur.execute(\"\"\"\n",
    "    CREATE TABLE IF NOT EXISTS reviews (\n",
    "        id SERIAL PRIMARY KEY,\n",
    "        bank_id INTEGER REFERENCES banks(id),\n",
    "        review TEXT,\n",
    "        rating INTEGER,\n",
    "        date DATE,\n",
    "        processed_review TEXT,\n",
    "        sentiment VARCHAR(50),\n",
    "        sentiment_score FLOAT\n",
    "    );\n",
    "\"\"\")\n",
    "\n",
    "conn.commit()"
   ]
  },
  {
   "cell_type": "markdown",
   "metadata": {},
   "source": [
    "### Step 2: Insert Data"
   ]
  },
  {
   "cell_type": "code",
   "execution_count": 17,
   "metadata": {},
   "outputs": [],
   "source": [
    "# Load your cleaned CSV file\n",
    "df = pd.read_csv(\"filtered_bank_reviews.csv\")\n",
    "\n",
    "# Convert date column to datetime.date (PostgreSQL expects date format)\n",
    "df['date'] = pd.to_datetime(df['date']).dt.date\n",
    "\n",
    "# Insert unique banks first\n",
    "unique_banks = df['bank'].unique()\n",
    "for bank in unique_banks:\n",
    "    cur.execute(\"\"\"\n",
    "        INSERT INTO banks (name)\n",
    "        VALUES (%s)\n",
    "        ON CONFLICT (name) DO NOTHING;\n",
    "    \"\"\", (bank,))\n",
    "conn.commit()\n",
    "\n",
    "# Insert reviews with bank_id lookup\n",
    "for _, row in df.iterrows():\n",
    "    cur.execute(\"SELECT id FROM banks WHERE name = %s;\", (row['bank'],))\n",
    "    bank_id = cur.fetchone()[0]\n",
    "\n",
    "    cur.execute(\"\"\"\n",
    "        INSERT INTO reviews (\n",
    "            bank_id, review, rating, date, processed_review, sentiment, sentiment_score\n",
    "        ) VALUES (%s, %s, %s, %s, %s, %s, %s);\n",
    "    \"\"\", (\n",
    "        bank_id,\n",
    "        row['review'],\n",
    "        int(row['rating']),\n",
    "        row['date'],\n",
    "        row['processed_review'],\n",
    "        row['sentiment'],\n",
    "        float(row['sentiment_score'])\n",
    "    ))\n",
    "\n",
    "conn.commit()\n",
    "\n",
    "# Close connections\n",
    "cur.close()\n",
    "conn.close()"
   ]
  },
  {
   "cell_type": "code",
   "execution_count": 20,
   "metadata": {},
   "outputs": [
    {
     "name": "stdout",
     "output_type": "stream",
     "text": [
      "✅ Data successfully inserted into banks and reviews tables.\n"
     ]
    }
   ],
   "source": [
    "import pandas as pd\n",
    "import psycopg2\n",
    "from psycopg2 import sql\n",
    "\n",
    "# Step 1: Load cleaned review data\n",
    "df = pd.read_csv(\"filtered_bank_reviews.csv\")\n",
    "\n",
    "# Convert 'date' column to datetime.date (PostgreSQL expects DATE format)\n",
    "df['date'] = pd.to_datetime(df['date']).dt.date\n",
    "\n",
    "# Step 2: Connect to PostgreSQL\n",
    "conn = psycopg2.connect(\n",
    "    dbname=\"bank_reviews\",\n",
    "    user=\"postgres\",\n",
    "    password=\"Smith@19\",\n",
    "    host=\"localhost\",\n",
    "    port=\"5432\"\n",
    ")\n",
    "cur = conn.cursor()\n",
    "\n",
    "# Step 3: Insert unique banks into banks table\n",
    "unique_banks = df['bank'].unique()\n",
    "\n",
    "for bank in unique_banks:\n",
    "    cur.execute(\"\"\"\n",
    "        INSERT INTO banks (name)\n",
    "        VALUES (%s)\n",
    "        ON CONFLICT (name) DO NOTHING;\n",
    "    \"\"\", (bank,))\n",
    "conn.commit()\n",
    "\n",
    "# Step 4: Insert reviews with bank_id reference\n",
    "for _, row in df.iterrows():\n",
    "    # Get bank_id from banks table\n",
    "    cur.execute(\"SELECT id FROM banks WHERE name = %s;\", (row['bank'],))\n",
    "    bank_row = cur.fetchone()\n",
    "\n",
    "    if bank_row:\n",
    "        bank_id = bank_row[0]\n",
    "        \n",
    "        # Insert review record\n",
    "        cur.execute(\"\"\"\n",
    "            INSERT INTO reviews (\n",
    "                bank_id, review, rating, date,\n",
    "                processed_review, sentiment, sentiment_score\n",
    "            ) VALUES (%s, %s, %s, %s, %s, %s, %s);\n",
    "        \"\"\", (\n",
    "            bank_id,\n",
    "            row['review'],\n",
    "            int(row['rating']),\n",
    "            row['date'],\n",
    "            row['processed_review'],\n",
    "            row['sentiment'],\n",
    "            float(row['sentiment_score'])\n",
    "        ))\n",
    "    else:\n",
    "        print(f\"Bank not found for review: {row['review']}\")  # Optional logging\n",
    "\n",
    "# Step 5: Commit and close\n",
    "conn.commit()\n",
    "cur.close()\n",
    "conn.close()\n",
    "print(\"✅ Data successfully inserted into banks and reviews tables.\")\n"
   ]
  },
  {
   "cell_type": "markdown",
   "metadata": {},
   "source": [
    "### Step 3: Verify Rows Inserted"
   ]
  },
  {
   "cell_type": "code",
   "execution_count": 22,
   "metadata": {},
   "outputs": [
    {
     "name": "stdout",
     "output_type": "stream",
     "text": [
      "Total banks: 3\n",
      "Total reviews: 13338\n",
      "\n",
      "Sample banks:\n",
      "(1, 'CBE')\n",
      "(2, 'Dashen')\n",
      "(3, 'BOA')\n",
      "\n",
      "Sample reviews:\n",
      "(1, 1, 'the app is proactive and a good connections.', 5, datetime.date(2025, 6, 5), 'app proactive good connection', 'positive', 0.7)\n",
      "(2, 1, 'I cannot send to cbebirr app. through this app.', 3, datetime.date(2025, 6, 5), 'send cbebirr app app', 'neutral', 0.0)\n",
      "(3, 1, 'good', 4, datetime.date(2025, 6, 5), 'good', 'positive', 0.7)\n",
      "(4, 1, 'not functional', 1, datetime.date(2025, 6, 5), 'functional', 'neutral', 0.0)\n",
      "(5, 1, \"everytime you uninstall the app you have to reach them out physically. very oldy! if that's one of security layer, they'd check for fraud attempt via app source directly(source:- app store, play store ... etc) implicitly ! we are in 2025, physical presence for every app install is traditional(traditionally very rare).\", 1, datetime.date(2025, 6, 4), 'everytime uninstall app reach physically oldy one security layer check fraud attempt via app source directly source app store play store etc implicitly 2025 physical presence every app install traditional traditionally rare', 'positive', 0.08)\n"
     ]
    }
   ],
   "source": [
    "import psycopg2\n",
    "\n",
    "# Connect to your database\n",
    "conn = psycopg2.connect(\n",
    "    dbname=\"bank_reviews\",\n",
    "    user=\"postgres\",\n",
    "    password=\"Smith@19\",\n",
    "    host=\"localhost\",\n",
    "    port=\"5432\"\n",
    ")\n",
    "cur = conn.cursor()\n",
    "\n",
    "# 1. Count total banks\n",
    "cur.execute(\"SELECT COUNT(*) FROM banks;\")\n",
    "bank_count = cur.fetchone()[0]\n",
    "print(\"Total banks:\", bank_count)\n",
    "\n",
    "# 2. Count total reviews\n",
    "cur.execute(\"SELECT COUNT(*) FROM reviews;\")\n",
    "review_count = cur.fetchone()[0]\n",
    "print(\"Total reviews:\", review_count)\n",
    "\n",
    "# 3. Check a few rows from banks\n",
    "cur.execute(\"SELECT * FROM banks LIMIT 5;\")\n",
    "print(\"\\nSample banks:\")\n",
    "for row in cur.fetchall():\n",
    "    print(row)\n",
    "\n",
    "# 4. Check a few rows from reviews\n",
    "cur.execute(\"SELECT * FROM reviews LIMIT 5;\")\n",
    "print(\"\\nSample reviews:\")\n",
    "for row in cur.fetchall():\n",
    "    print(row)\n",
    "\n",
    "# Clean up\n",
    "cur.close()\n",
    "conn.close()"
   ]
  },
  {
   "cell_type": "markdown",
   "metadata": {},
   "source": [
    "### Check reviews per bank"
   ]
  },
  {
   "cell_type": "code",
   "execution_count": 34,
   "metadata": {},
   "outputs": [
    {
     "name": "stdout",
     "output_type": "stream",
     "text": [
      "\n",
      "Review count per bank:\n",
      "('CBE', 11040)\n",
      "('BOA', 1572)\n",
      "('Dashen', 726)\n"
     ]
    }
   ],
   "source": [
    "conn = psycopg2.connect(\n",
    "    dbname=\"bank_reviews\",\n",
    "    user=\"postgres\",\n",
    "    password=\"Smith@19\",\n",
    "    host=\"localhost\",\n",
    "    port=\"5432\"\n",
    ")\n",
    "cur = conn.cursor()\n",
    "\n",
    "cur.execute(\"\"\"\n",
    "    SELECT b.name, COUNT(r.id) AS review_count\n",
    "    FROM banks b\n",
    "    JOIN reviews r ON b.id = r.bank_id\n",
    "    GROUP BY b.name\n",
    "    ORDER BY review_count DESC;\n",
    "\"\"\")\n",
    "print(\"\\nReview count per bank:\")\n",
    "for row in cur.fetchall():\n",
    "    print(row)\n",
    "\n",
    "cur.close()\n",
    "conn.close()\n"
   ]
  },
  {
   "cell_type": "markdown",
   "metadata": {},
   "source": [
    "###  load into DataFrame"
   ]
  },
  {
   "cell_type": "code",
   "execution_count": 35,
   "metadata": {},
   "outputs": [
    {
     "name": "stdout",
     "output_type": "stream",
     "text": [
      "   id  bank_id                                             review  rating  \\\n",
      "0   1        1       the app is proactive and a good connections.       5   \n",
      "1   2        1    I cannot send to cbebirr app. through this app.       3   \n",
      "2   3        1                                               good       4   \n",
      "3   4        1                                     not functional       1   \n",
      "4   5        1  everytime you uninstall the app you have to re...       1   \n",
      "5   6        1  አካውንት የምናስገባበት ቦታ ስም ጽፈን ነው ከዚህ በፊት የላክንባቸውን አ...       4   \n",
      "6   7        1                                               best       5   \n",
      "7   8        1                                            bezabih       5   \n",
      "8   9        1                       Best Mobile Banking app ever       5   \n",
      "9  10        1  it was good app but it have some issues like i...       2   \n",
      "\n",
      "         date                                   processed_review sentiment  \\\n",
      "0  2025-06-05                      app proactive good connection  positive   \n",
      "1  2025-06-05                               send cbebirr app app   neutral   \n",
      "2  2025-06-05                                               good  positive   \n",
      "3  2025-06-05                                         functional   neutral   \n",
      "4  2025-06-04  everytime uninstall app reach physically oldy ...  positive   \n",
      "5  2025-06-04  አካውንት የምናስገባበት ቦታ ስም ጽፈን ነው ከዚህ በፊት የላክንባቸውን አ...   neutral   \n",
      "6  2025-06-04                                               best  positive   \n",
      "7  2025-06-04                                            bezabih   neutral   \n",
      "8  2025-06-04                       best mobile banking app ever  positive   \n",
      "9  2025-06-04  good app issue like doesnt give right amount b...  positive   \n",
      "\n",
      "   sentiment_score  \n",
      "0         0.700000  \n",
      "1         0.000000  \n",
      "2         0.700000  \n",
      "3         0.000000  \n",
      "4         0.080000  \n",
      "5         0.000000  \n",
      "6         1.000000  \n",
      "7         0.000000  \n",
      "8         1.000000  \n",
      "9         0.492857  \n"
     ]
    },
    {
     "name": "stderr",
     "output_type": "stream",
     "text": [
      "C:\\Users\\smith\\AppData\\Local\\Temp\\ipykernel_11664\\1141484068.py:10: UserWarning: pandas only supports SQLAlchemy connectable (engine/connection) or database string URI or sqlite3 DBAPI2 connection. Other DBAPI2 objects are not tested. Please consider using SQLAlchemy.\n",
      "  df_reviews = pd.read_sql_query(\"SELECT * FROM reviews LIMIT 10;\", conn)\n"
     ]
    }
   ],
   "source": [
    "conn = psycopg2.connect(\n",
    "    dbname=\"bank_reviews\",\n",
    "    user=\"postgres\",\n",
    "    password=\"Smith@19\",\n",
    "    host=\"localhost\",\n",
    "    port=\"5432\"\n",
    ")\n",
    "\n",
    "# Run a query and load into DataFrame\n",
    "df_reviews = pd.read_sql_query(\"SELECT * FROM reviews LIMIT 10;\", conn)\n",
    "print(df_reviews)\n",
    "\n",
    "conn.close()"
   ]
  }
 ],
 "metadata": {
  "kernelspec": {
   "display_name": ".venv",
   "language": "python",
   "name": "python3"
  },
  "language_info": {
   "codemirror_mode": {
    "name": "ipython",
    "version": 3
   },
   "file_extension": ".py",
   "mimetype": "text/x-python",
   "name": "python",
   "nbconvert_exporter": "python",
   "pygments_lexer": "ipython3",
   "version": "3.13.3"
  }
 },
 "nbformat": 4,
 "nbformat_minor": 2
}
